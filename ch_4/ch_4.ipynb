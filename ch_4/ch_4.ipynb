{
 "cells": [
  {
   "cell_type": "code",
   "execution_count": 1,
   "id": "9e1451d1-1be1-4a6a-8b75-99073eaefade",
   "metadata": {},
   "outputs": [
    {
     "name": "stdout",
     "output_type": "stream",
     "text": [
      "89.44444444444444\n"
     ]
    }
   ],
   "source": [
    "nums = [89, 78, 99, 88, 92, 98, 95, 78, 88]\n",
    "total = 0\n",
    "for num in nums:\n",
    "    total += num\n",
    "print(total/len(nums))"
   ]
  },
  {
   "cell_type": "code",
   "execution_count": 2,
   "id": "5300c77b-4f8c-475a-b9fa-1a28c6ff748f",
   "metadata": {},
   "outputs": [
    {
     "name": "stdout",
     "output_type": "stream",
     "text": [
      "Averages: [86.0, 82.5, 92.25, 78.5, 90.75, 85.5]\n",
      "Averages: [86.0, 82.5, 92.25, 78.5, 90.75, 85.5]\n"
     ]
    }
   ],
   "source": [
    "#!/usr/bin/env python3\n",
    "tests = {\"Sally\": (89, 78, 99, 88, 92, 98, 95, 78, 88),\n",
    "         \"Doug\": (68, 87, 72, 60, 80, 65),\n",
    "         \"Kesha\": (98, 87, 99, 78, 99, 80, 98, 50),\n",
    "         \"John\": (89, 78, 99, 88, 92, 99, 95, 88, 95, 99)}\n",
    "\n",
    "\n",
    "def averages(*grades):\n",
    "    qty = len(grades)\n",
    "    return sum(grades)/qty\n",
    "\n",
    "\n",
    "a, b, c, d = tests.values()\n",
    "x = map(averages, a, b, c, d)\n",
    "print(\"Averages:\", list(x))\n",
    "\n",
    "\n",
    "# Notice that when an asterisk is used on an iterable\n",
    "# argument when a function is called, that it unpacks the\n",
    "# iterable automatically into the arguments passed to the\n",
    "# function as seen below. This * operator when used in\n",
    "# this manner is often referred to as the \"splat\" operator\n",
    "# in other languages.\n",
    "\n",
    "x = map(averages, *tests.values())\n",
    "print(\"Averages:\", list(x))"
   ]
  },
  {
   "cell_type": "code",
   "execution_count": 3,
   "id": "1511a172-3eca-456f-bd5b-44986bf2a003",
   "metadata": {},
   "outputs": [
    {
     "name": "stdout",
     "output_type": "stream",
     "text": [
      "3 6 9 12 15 18 21 24 27 30 33 36 39 42 45 48 \n"
     ]
    }
   ],
   "source": [
    "#filter_demo.py\n",
    "#!/usr/bin/env python3\n",
    "def multiple_of_three(x):\n",
    "    return x % 3 == 0\n",
    "\n",
    "\n",
    "results = filter(multiple_of_three, range(2, 51))\n",
    "for value in results:\n",
    "    print(value, end=' ')\n",
    "print()"
   ]
  },
  {
   "cell_type": "code",
   "execution_count": 5,
   "id": "c0156d2e-a09f-4a52-ae30-12a729ede7f4",
   "metadata": {},
   "outputs": [
    {
     "name": "stdout",
     "output_type": "stream",
     "text": [
      "3 6 9 12 15 18 21 24 27 30 33 36 39 42 45 48 \n"
     ]
    }
   ],
   "source": [
    "#!/usr/bin/env python3\n",
    "results = filter(lambda x: x % 3 == 0, range(2, 51))\n",
    "\n",
    "for value in results:\n",
    "    print(value, end=' ')\n",
    "print()"
   ]
  },
  {
   "cell_type": "code",
   "execution_count": null,
   "id": "ca88b2a1-68a0-4afe-88cf-dc34c8a4a93d",
   "metadata": {},
   "outputs": [],
   "source": []
  }
 ],
 "metadata": {
  "kernelspec": {
   "display_name": "Python 3 (ipykernel)",
   "language": "python",
   "name": "python3"
  },
  "language_info": {
   "codemirror_mode": {
    "name": "ipython",
    "version": 3
   },
   "file_extension": ".py",
   "mimetype": "text/x-python",
   "name": "python",
   "nbconvert_exporter": "python",
   "pygments_lexer": "ipython3",
   "version": "3.13.2"
  }
 },
 "nbformat": 4,
 "nbformat_minor": 5
}
